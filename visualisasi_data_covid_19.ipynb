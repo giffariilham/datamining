{
  "nbformat": 4,
  "nbformat_minor": 0,
  "metadata": {
    "colab": {
      "provenance": [],
      "authorship_tag": "ABX9TyN9nt6INYE1L7/GldDiUQSp",
      "include_colab_link": true
    },
    "kernelspec": {
      "name": "python3",
      "display_name": "Python 3"
    },
    "language_info": {
      "name": "python"
    }
  },
  "cells": [
    {
      "cell_type": "markdown",
      "metadata": {
        "id": "view-in-github",
        "colab_type": "text"
      },
      "source": [
        "<a href=\"https://colab.research.google.com/github/giffariilham/datamining/blob/main/visualisasi_data_covid_19.ipynb\" target=\"_parent\"><img src=\"https://colab.research.google.com/assets/colab-badge.svg\" alt=\"Open In Colab\"/></a>"
      ]
    },
    {
      "cell_type": "code",
      "execution_count": null,
      "metadata": {
        "id": "ULb9Rv_uR311"
      },
      "outputs": [],
      "source": [
        "import numpy as np\n",
        "import matplotlib.pyplot as plt\n",
        "import pandas as pd"
      ]
    },
    {
      "cell_type": "code",
      "source": [
        "data = pd.read_csv('Data Covid19.csv')\n",
        "data.head()"
      ],
      "metadata": {
        "id": "cuv8yaqGTJGx"
      },
      "execution_count": null,
      "outputs": []
    },
    {
      "cell_type": "code",
      "source": [
        "data.info()"
      ],
      "metadata": {
        "id": "Si0Jm2vdTc7T"
      },
      "execution_count": null,
      "outputs": []
    },
    {
      "cell_type": "code",
      "source": [
        "data['Last Update'].unique()"
      ],
      "metadata": {
        "id": "41jaXiyKTj8g"
      },
      "execution_count": null,
      "outputs": []
    },
    {
      "cell_type": "code",
      "source": [
        "latest_date = '28/02/2021 05.22'\n",
        "data[data['Last Update']==latest_date] "
      ],
      "metadata": {
        "id": "2Uwwfd26Tzzv"
      },
      "execution_count": null,
      "outputs": []
    },
    {
      "cell_type": "code",
      "source": [
        "unique_countries = data[data.Confirmed>0]['Country/Region'].unique()\n",
        "unique_countries.sort()\n",
        "unique_countries"
      ],
      "metadata": {
        "id": "au076GpeUHac"
      },
      "execution_count": null,
      "outputs": []
    },
    {
      "cell_type": "code",
      "source": [
        "country_confirmed_case = []\n",
        "for i in unique_countries:\n",
        "  country_confirmed_case.append(data[data.Confirmed>0][data['Country/Region']==i][data['Last Update']==latest_date].Confirmed.sum())"
      ],
      "metadata": {
        "id": "kdiGXIiGUfjI"
      },
      "execution_count": null,
      "outputs": []
    },
    {
      "cell_type": "code",
      "source": [
        "print(set(zip(unique_countries, country_confirmed_case)))"
      ],
      "metadata": {
        "id": "vVS6Ww32WBGa"
      },
      "execution_count": null,
      "outputs": []
    },
    {
      "cell_type": "code",
      "source": [
        "unique_provinces = data['Province/State'][data.Confirmed>1].unique()\n",
        "unique_provinces"
      ],
      "metadata": {
        "id": "5uHcJZnlWQ4a"
      },
      "execution_count": null,
      "outputs": []
    },
    {
      "cell_type": "code",
      "source": [
        "province_confirmed_case = []\n",
        "for i in unique_provinces:\n",
        "  province_confirmed_case.append(data[data.Confirmed>0][data['Province/State']==i][data['Last Update']==latest_date].Confirmed.sum())"
      ],
      "metadata": {
        "id": "w8V5E79PWiXe"
      },
      "execution_count": null,
      "outputs": []
    },
    {
      "cell_type": "code",
      "source": [
        "print(set(zip(unique_provinces, province_confirmed_case)))"
      ],
      "metadata": {
        "id": "uKTuOCj0XYiH"
      },
      "execution_count": null,
      "outputs": []
    },
    {
      "cell_type": "code",
      "source": [
        "nan_indices = []\n",
        "for i in range(len(unique_provinces)):\n",
        "  if type(unique_provinces[i])==float:\n",
        "    nan_indices.append(i)"
      ],
      "metadata": {
        "id": "sbACtET5Xwnd"
      },
      "execution_count": null,
      "outputs": []
    },
    {
      "cell_type": "code",
      "source": [
        "unique_provinces = list(unique_provinces)\n",
        "province_confirmed_case = list(province_confirmed_case)"
      ],
      "metadata": {
        "id": "RyH8aKfMYDQy"
      },
      "execution_count": null,
      "outputs": []
    },
    {
      "cell_type": "code",
      "source": [
        "for i in nan_indices:\n",
        "  unique_provinces.pop(i)\n",
        "  province_confirmed_case.pop(i)\n",
        "\n",
        "unique_provinces"
      ],
      "metadata": {
        "id": "8UwEh_h0YU2C"
      },
      "execution_count": null,
      "outputs": []
    },
    {
      "cell_type": "code",
      "source": [
        "plt.barh(unique_countries, country_confirmed_case)\n",
        "plt.show"
      ],
      "metadata": {
        "id": "yDHA_hdRYj0Z"
      },
      "execution_count": null,
      "outputs": []
    },
    {
      "cell_type": "code",
      "source": [
        "plt.figure(figsize=(50, 40))\n",
        "plt.barh(unique_provinces, province_confirmed_case)\n",
        "plt.show()"
      ],
      "metadata": {
        "id": "1NT3aPiZY2kL"
      },
      "execution_count": null,
      "outputs": []
    },
    {
      "cell_type": "code",
      "source": [
        "plt.figure(figsize=(10, 10))\n",
        "plt.pie(country_confirmed_case)\n",
        "plt.legend(unique_countries, loc='best')\n",
        "plt.show()"
      ],
      "metadata": {
        "id": "yacRf2knZLjQ"
      },
      "execution_count": null,
      "outputs": []
    },
    {
      "cell_type": "code",
      "source": [
        "plt.figure(figsize=(20, 20))\n",
        "plt.pie(province_confirmed_case)\n",
        "plt.legend(unique_provinces, loc='best')\n",
        "plt.show()"
      ],
      "metadata": {
        "id": "RFtEKQ7bZeYQ"
      },
      "execution_count": null,
      "outputs": []
    }
  ]
}